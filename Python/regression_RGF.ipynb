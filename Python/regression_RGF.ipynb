{
 "cells": [
  {
   "cell_type": "code",
   "execution_count": 1,
   "metadata": {},
   "outputs": [],
   "source": [
    "from sklearn.datasets import load_boston\n",
    "from sklearn.model_selection import cross_val_score, train_test_split\n",
    "from sklearn.metrics import make_scorer, mean_squared_error\n",
    "from sklearn.ensemble import RandomForestRegressor\n",
    "from rgf.sklearn import RGFRegressor"
   ]
  },
  {
   "cell_type": "code",
   "execution_count": 2,
   "metadata": {},
   "outputs": [],
   "source": [
    "boston = load_boston()\n",
    "X_train, X_test, y_train, y_test = train_test_split(boston.data,\n",
    "                                                    boston.target,\n",
    "                                                    test_size=0.1,\n",
    "                                                    random_state=42)"
   ]
  },
  {
   "cell_type": "code",
   "execution_count": 3,
   "metadata": {
    "collapsed": true
   },
   "outputs": [],
   "source": [
    "rgf = RGFRegressor(max_leaf=300,\n",
    "                   algorithm=\"RGF_Sib\",\n",
    "                   test_interval=100,\n",
    "                   loss=\"LS\",\n",
    "                   verbose=False)\n",
    "rf = RandomForestRegressor(n_estimators=600,\n",
    "                           min_samples_leaf=3,\n",
    "                           max_depth=10,\n",
    "                           random_state=42)\n",
    "n_folds = 3"
   ]
  },
  {
   "cell_type": "code",
   "execution_count": 4,
   "metadata": {
    "collapsed": true
   },
   "outputs": [],
   "source": [
    "rgf_scores = cross_val_score(rgf,\n",
    "                             X_train,\n",
    "                             y_train,\n",
    "                             scoring=make_scorer(mean_squared_error),\n",
    "                             cv=n_folds)\n",
    "rf_scores = cross_val_score(rf,\n",
    "                            X_train,\n",
    "                            y_train,\n",
    "                            scoring=make_scorer(mean_squared_error),\n",
    "                            cv=n_folds)"
   ]
  },
  {
   "cell_type": "code",
   "execution_count": 5,
   "metadata": {},
   "outputs": [
    {
     "name": "stdout",
     "output_type": "stream",
     "text": [
      "RGF Regressor MSE: 12.59373\n",
      "Random Forest Regressor MSE: 13.80435\n"
     ]
    }
   ],
   "source": [
    "rgf_score = sum(rgf_scores)/n_folds\n",
    "print('RGF Regressor MSE: {0:.5f}'.format(rgf_score))\n",
    "rf_score = sum(rf_scores)/n_folds\n",
    "print('Random Forest Regressor MSE: {0:.5f}'.format(rf_score))"
   ]
  },
  {
   "cell_type": "code",
   "execution_count": 6,
   "metadata": {
    "collapsed": true
   },
   "outputs": [],
   "source": [
    "y_pred_rgf = rgf.fit(X_train, y_train).predict(X_test)\n",
    "y_pred_rf = rf.fit(X_train, y_train).predict(X_test)"
   ]
  }
 ],
 "metadata": {
  "anaconda-cloud": {},
  "kernelspec": {
   "display_name": "Python 3",
   "language": "python",
   "name": "python3"
  },
  "language_info": {
   "codemirror_mode": {
    "name": "ipython",
    "version": 3
   },
   "file_extension": ".py",
   "mimetype": "text/x-python",
   "name": "python",
   "nbconvert_exporter": "python",
   "pygments_lexer": "ipython3",
   "version": "3.6.5"
  }
 },
 "nbformat": 4,
 "nbformat_minor": 1
}
